{
 "cells": [
  {
   "cell_type": "code",
   "execution_count": 50,
   "id": "gentle-attendance",
   "metadata": {},
   "outputs": [
    {
     "data": {
      "text/html": [
       "<div>\n",
       "<style scoped>\n",
       "    .dataframe tbody tr th:only-of-type {\n",
       "        vertical-align: middle;\n",
       "    }\n",
       "\n",
       "    .dataframe tbody tr th {\n",
       "        vertical-align: top;\n",
       "    }\n",
       "\n",
       "    .dataframe thead th {\n",
       "        text-align: right;\n",
       "    }\n",
       "</style>\n",
       "<table border=\"1\" class=\"dataframe\">\n",
       "  <thead>\n",
       "    <tr style=\"text-align: right;\">\n",
       "      <th></th>\n",
       "      <th>id</th>\n",
       "      <th>gender</th>\n",
       "      <th>age</th>\n",
       "      <th>hypertension</th>\n",
       "      <th>heart_disease</th>\n",
       "      <th>work_type</th>\n",
       "      <th>Residence_type</th>\n",
       "      <th>avg_glucose_level</th>\n",
       "      <th>bmi</th>\n",
       "      <th>smoking_status</th>\n",
       "      <th>stroke</th>\n",
       "    </tr>\n",
       "    <tr>\n",
       "      <th>ever_married</th>\n",
       "      <th></th>\n",
       "      <th></th>\n",
       "      <th></th>\n",
       "      <th></th>\n",
       "      <th></th>\n",
       "      <th></th>\n",
       "      <th></th>\n",
       "      <th></th>\n",
       "      <th></th>\n",
       "      <th></th>\n",
       "      <th></th>\n",
       "    </tr>\n",
       "  </thead>\n",
       "  <tbody>\n",
       "    <tr>\n",
       "      <th>No</th>\n",
       "      <td>1757</td>\n",
       "      <td>1757</td>\n",
       "      <td>1757</td>\n",
       "      <td>1757</td>\n",
       "      <td>1757</td>\n",
       "      <td>1757</td>\n",
       "      <td>1757</td>\n",
       "      <td>1757</td>\n",
       "      <td>1705</td>\n",
       "      <td>1757</td>\n",
       "      <td>1757</td>\n",
       "    </tr>\n",
       "    <tr>\n",
       "      <th>Yes</th>\n",
       "      <td>3353</td>\n",
       "      <td>3353</td>\n",
       "      <td>3353</td>\n",
       "      <td>3353</td>\n",
       "      <td>3353</td>\n",
       "      <td>3353</td>\n",
       "      <td>3353</td>\n",
       "      <td>3353</td>\n",
       "      <td>3204</td>\n",
       "      <td>3353</td>\n",
       "      <td>3353</td>\n",
       "    </tr>\n",
       "  </tbody>\n",
       "</table>\n",
       "</div>"
      ],
      "text/plain": [
       "                id  gender   age  hypertension  heart_disease  work_type  \\\n",
       "ever_married                                                               \n",
       "No            1757    1757  1757          1757           1757       1757   \n",
       "Yes           3353    3353  3353          3353           3353       3353   \n",
       "\n",
       "              Residence_type  avg_glucose_level   bmi  smoking_status  stroke  \n",
       "ever_married                                                                   \n",
       "No                      1757               1757  1705            1757    1757  \n",
       "Yes                     3353               3353  3204            3353    3353  "
      ]
     },
     "execution_count": 50,
     "metadata": {},
     "output_type": "execute_result"
    }
   ],
   "source": [
    "import matplotlib.pyplot as plt\n",
    "import numpy as np\n",
    "import pandas as pd\n",
    "import seaborn as sns\n",
    "\n",
    "from sklearn.linear_model import LogisticRegression\n",
    "from sklearn.model_selection import train_test_split\n",
    "\n",
    "data = pd.read_csv('../data/healthcare-dataset-stroke-data.csv')\n",
    "data"
   ]
  },
  {
   "cell_type": "markdown",
   "id": "discrete-montgomery",
   "metadata": {},
   "source": [
    "### Exploratory Data Analysis"
   ]
  },
  {
   "cell_type": "code",
   "execution_count": 5,
   "id": "virgin-liver",
   "metadata": {},
   "outputs": [
    {
     "data": {
      "text/html": [
       "<div>\n",
       "<style scoped>\n",
       "    .dataframe tbody tr th:only-of-type {\n",
       "        vertical-align: middle;\n",
       "    }\n",
       "\n",
       "    .dataframe tbody tr th {\n",
       "        vertical-align: top;\n",
       "    }\n",
       "\n",
       "    .dataframe thead th {\n",
       "        text-align: right;\n",
       "    }\n",
       "</style>\n",
       "<table border=\"1\" class=\"dataframe\">\n",
       "  <thead>\n",
       "    <tr style=\"text-align: right;\">\n",
       "      <th></th>\n",
       "      <th>id</th>\n",
       "      <th>gender</th>\n",
       "      <th>age</th>\n",
       "      <th>hypertension</th>\n",
       "      <th>heart_disease</th>\n",
       "      <th>ever_married</th>\n",
       "      <th>work_type</th>\n",
       "      <th>Residence_type</th>\n",
       "      <th>avg_glucose_level</th>\n",
       "      <th>bmi</th>\n",
       "      <th>smoking_status</th>\n",
       "      <th>stroke</th>\n",
       "    </tr>\n",
       "  </thead>\n",
       "  <tbody>\n",
       "    <tr>\n",
       "      <th>0</th>\n",
       "      <td>9046</td>\n",
       "      <td>Male</td>\n",
       "      <td>67.0</td>\n",
       "      <td>0</td>\n",
       "      <td>1</td>\n",
       "      <td>Yes</td>\n",
       "      <td>Private</td>\n",
       "      <td>Urban</td>\n",
       "      <td>228.69</td>\n",
       "      <td>36.6</td>\n",
       "      <td>formerly smoked</td>\n",
       "      <td>1</td>\n",
       "    </tr>\n",
       "    <tr>\n",
       "      <th>1</th>\n",
       "      <td>51676</td>\n",
       "      <td>Female</td>\n",
       "      <td>61.0</td>\n",
       "      <td>0</td>\n",
       "      <td>0</td>\n",
       "      <td>Yes</td>\n",
       "      <td>Self-employed</td>\n",
       "      <td>Rural</td>\n",
       "      <td>202.21</td>\n",
       "      <td>NaN</td>\n",
       "      <td>never smoked</td>\n",
       "      <td>1</td>\n",
       "    </tr>\n",
       "    <tr>\n",
       "      <th>2</th>\n",
       "      <td>31112</td>\n",
       "      <td>Male</td>\n",
       "      <td>80.0</td>\n",
       "      <td>0</td>\n",
       "      <td>1</td>\n",
       "      <td>Yes</td>\n",
       "      <td>Private</td>\n",
       "      <td>Rural</td>\n",
       "      <td>105.92</td>\n",
       "      <td>32.5</td>\n",
       "      <td>never smoked</td>\n",
       "      <td>1</td>\n",
       "    </tr>\n",
       "    <tr>\n",
       "      <th>3</th>\n",
       "      <td>60182</td>\n",
       "      <td>Female</td>\n",
       "      <td>49.0</td>\n",
       "      <td>0</td>\n",
       "      <td>0</td>\n",
       "      <td>Yes</td>\n",
       "      <td>Private</td>\n",
       "      <td>Urban</td>\n",
       "      <td>171.23</td>\n",
       "      <td>34.4</td>\n",
       "      <td>smokes</td>\n",
       "      <td>1</td>\n",
       "    </tr>\n",
       "    <tr>\n",
       "      <th>4</th>\n",
       "      <td>1665</td>\n",
       "      <td>Female</td>\n",
       "      <td>79.0</td>\n",
       "      <td>1</td>\n",
       "      <td>0</td>\n",
       "      <td>Yes</td>\n",
       "      <td>Self-employed</td>\n",
       "      <td>Rural</td>\n",
       "      <td>174.12</td>\n",
       "      <td>24.0</td>\n",
       "      <td>never smoked</td>\n",
       "      <td>1</td>\n",
       "    </tr>\n",
       "    <tr>\n",
       "      <th>...</th>\n",
       "      <td>...</td>\n",
       "      <td>...</td>\n",
       "      <td>...</td>\n",
       "      <td>...</td>\n",
       "      <td>...</td>\n",
       "      <td>...</td>\n",
       "      <td>...</td>\n",
       "      <td>...</td>\n",
       "      <td>...</td>\n",
       "      <td>...</td>\n",
       "      <td>...</td>\n",
       "      <td>...</td>\n",
       "    </tr>\n",
       "    <tr>\n",
       "      <th>5102</th>\n",
       "      <td>45010</td>\n",
       "      <td>Female</td>\n",
       "      <td>57.0</td>\n",
       "      <td>0</td>\n",
       "      <td>0</td>\n",
       "      <td>Yes</td>\n",
       "      <td>Private</td>\n",
       "      <td>Rural</td>\n",
       "      <td>77.93</td>\n",
       "      <td>21.7</td>\n",
       "      <td>never smoked</td>\n",
       "      <td>0</td>\n",
       "    </tr>\n",
       "    <tr>\n",
       "      <th>5105</th>\n",
       "      <td>18234</td>\n",
       "      <td>Female</td>\n",
       "      <td>80.0</td>\n",
       "      <td>1</td>\n",
       "      <td>0</td>\n",
       "      <td>Yes</td>\n",
       "      <td>Private</td>\n",
       "      <td>Urban</td>\n",
       "      <td>83.75</td>\n",
       "      <td>NaN</td>\n",
       "      <td>never smoked</td>\n",
       "      <td>0</td>\n",
       "    </tr>\n",
       "    <tr>\n",
       "      <th>5106</th>\n",
       "      <td>44873</td>\n",
       "      <td>Female</td>\n",
       "      <td>81.0</td>\n",
       "      <td>0</td>\n",
       "      <td>0</td>\n",
       "      <td>Yes</td>\n",
       "      <td>Self-employed</td>\n",
       "      <td>Urban</td>\n",
       "      <td>125.20</td>\n",
       "      <td>40.0</td>\n",
       "      <td>never smoked</td>\n",
       "      <td>0</td>\n",
       "    </tr>\n",
       "    <tr>\n",
       "      <th>5107</th>\n",
       "      <td>19723</td>\n",
       "      <td>Female</td>\n",
       "      <td>35.0</td>\n",
       "      <td>0</td>\n",
       "      <td>0</td>\n",
       "      <td>Yes</td>\n",
       "      <td>Self-employed</td>\n",
       "      <td>Rural</td>\n",
       "      <td>82.99</td>\n",
       "      <td>30.6</td>\n",
       "      <td>never smoked</td>\n",
       "      <td>0</td>\n",
       "    </tr>\n",
       "    <tr>\n",
       "      <th>5108</th>\n",
       "      <td>37544</td>\n",
       "      <td>Male</td>\n",
       "      <td>51.0</td>\n",
       "      <td>0</td>\n",
       "      <td>0</td>\n",
       "      <td>Yes</td>\n",
       "      <td>Private</td>\n",
       "      <td>Rural</td>\n",
       "      <td>166.29</td>\n",
       "      <td>25.6</td>\n",
       "      <td>formerly smoked</td>\n",
       "      <td>0</td>\n",
       "    </tr>\n",
       "  </tbody>\n",
       "</table>\n",
       "<p>3566 rows × 12 columns</p>\n",
       "</div>"
      ],
      "text/plain": [
       "         id  gender   age  hypertension  heart_disease ever_married  \\\n",
       "0      9046    Male  67.0             0              1          Yes   \n",
       "1     51676  Female  61.0             0              0          Yes   \n",
       "2     31112    Male  80.0             0              1          Yes   \n",
       "3     60182  Female  49.0             0              0          Yes   \n",
       "4      1665  Female  79.0             1              0          Yes   \n",
       "...     ...     ...   ...           ...            ...          ...   \n",
       "5102  45010  Female  57.0             0              0          Yes   \n",
       "5105  18234  Female  80.0             1              0          Yes   \n",
       "5106  44873  Female  81.0             0              0          Yes   \n",
       "5107  19723  Female  35.0             0              0          Yes   \n",
       "5108  37544    Male  51.0             0              0          Yes   \n",
       "\n",
       "          work_type Residence_type  avg_glucose_level   bmi   smoking_status  \\\n",
       "0           Private          Urban             228.69  36.6  formerly smoked   \n",
       "1     Self-employed          Rural             202.21   NaN     never smoked   \n",
       "2           Private          Rural             105.92  32.5     never smoked   \n",
       "3           Private          Urban             171.23  34.4           smokes   \n",
       "4     Self-employed          Rural             174.12  24.0     never smoked   \n",
       "...             ...            ...                ...   ...              ...   \n",
       "5102        Private          Rural              77.93  21.7     never smoked   \n",
       "5105        Private          Urban              83.75   NaN     never smoked   \n",
       "5106  Self-employed          Urban             125.20  40.0     never smoked   \n",
       "5107  Self-employed          Rural              82.99  30.6     never smoked   \n",
       "5108        Private          Rural             166.29  25.6  formerly smoked   \n",
       "\n",
       "      stroke  \n",
       "0          1  \n",
       "1          1  \n",
       "2          1  \n",
       "3          1  \n",
       "4          1  \n",
       "...      ...  \n",
       "5102       0  \n",
       "5105       0  \n",
       "5106       0  \n",
       "5107       0  \n",
       "5108       0  \n",
       "\n",
       "[3566 rows x 12 columns]"
      ]
     },
     "execution_count": 5,
     "metadata": {},
     "output_type": "execute_result"
    }
   ],
   "source": [
    "# Consider only data without smoking status as unknown\n",
    "data = data[data['smoking_status'] != 'Unknown']\n",
    "data.groupby('smoking_status').count()\n",
    "data"
   ]
  },
  {
   "cell_type": "code",
   "execution_count": 48,
   "id": "frequent-sleeping",
   "metadata": {},
   "outputs": [],
   "source": [
    "# Do not consider rows with null values\n",
    "data = data[data['bmi'].isnull() == False]"
   ]
  },
  {
   "cell_type": "code",
   "execution_count": 4,
   "id": "classical-module",
   "metadata": {},
   "outputs": [
    {
     "data": {
      "text/plain": [
       "<AxesSubplot:xlabel='age', ylabel='avg_glucose_level'>"
      ]
     },
     "execution_count": 4,
     "metadata": {},
     "output_type": "execute_result"
    },
    {
     "data": {
      "image/png": "[encoded data removed]",
      "text/plain": [
       "<Figure size 432x288 with 1 Axes>"
      ]
     },
     "metadata": {
      "needs_background": "light"
     },
     "output_type": "display_data"
    }
   ],
   "source": [
    "sns.scatterplot(data=data.head(1700), x='age', y='avg_glucose_level', hue='stroke')"
   ]
  },
  {
   "cell_type": "markdown",
   "id": "imported-window",
   "metadata": {},
   "source": [
    "The people who had strokes seem to lie within the ages 40 to 80. Even though we only used 1,700 data points, our scatterplot is very cluttered. We will use a contour plot for a better view of the entire data."
   ]
  },
  {
   "cell_type": "code",
   "execution_count": 5,
   "id": "naval-shaft",
   "metadata": {},
   "outputs": [
    {
     "data": {
      "text/plain": [
       "<AxesSubplot:xlabel='age', ylabel='avg_glucose_level'>"
      ]
     },
     "execution_count": 5,
     "metadata": {},
     "output_type": "execute_result"
    },
    {
     "data": {
      "image/png": "[encoded data removed]",
      "text/plain": [
       "<Figure size 432x288 with 1 Axes>"
      ]
     },
     "metadata": {
      "needs_background": "light"
     },
     "output_type": "display_data"
    }
   ],
   "source": [
    "sns.kdeplot(\n",
    "    data=data, x='age', y='avg_glucose_level', hue='stroke', fill=True\n",
    ")"
   ]
  },
  {
   "cell_type": "code",
   "execution_count": 6,
   "id": "coated-orbit",
   "metadata": {},
   "outputs": [
    {
     "data": {
      "text/plain": [
       "<AxesSubplot:xlabel='age', ylabel='bmi'>"
      ]
     },
     "execution_count": 6,
     "metadata": {},
     "output_type": "execute_result"
    },
    {
     "data": {
      "image/png": "[encoded data removed]",
      "text/plain": [
       "<Figure size 432x288 with 1 Axes>"
      ]
     },
     "metadata": {
      "needs_background": "light"
     },
     "output_type": "display_data"
    }
   ],
   "source": [
    "sns.kdeplot(\n",
    "    data=data, x='age', y='bmi', hue='stroke', fill=True\n",
    ")"
   ]
  },
  {
   "cell_type": "code",
   "execution_count": 7,
   "id": "standing-onion",
   "metadata": {
    "scrolled": true
   },
   "outputs": [
    {
     "data": {
      "text/plain": [
       "<AxesSubplot:xlabel='age', ylabel='bmi'>"
      ]
     },
     "execution_count": 7,
     "metadata": {},
     "output_type": "execute_result"
    },
    {
     "data": {
      "image/png": "[encoded data removed]",
      "text/plain": [
       "<Figure size 432x288 with 1 Axes>"
      ]
     },
     "metadata": {
      "needs_background": "light"
     },
     "output_type": "display_data"
    }
   ],
   "source": [
    "sns.kdeplot(\n",
    "    data=data, x='age', y='bmi', hue='stroke', fill=True\n",
    ")"
   ]
  },
  {
   "cell_type": "code",
   "execution_count": 8,
   "id": "valuable-resolution",
   "metadata": {},
   "outputs": [
    {
     "data": {
      "text/plain": [
       "<AxesSubplot:xlabel='smoking_status', ylabel='age'>"
      ]
     },
     "execution_count": 8,
     "metadata": {},
     "output_type": "execute_result"
    },
    {
     "data": {
      "image/png": "[encoded data removed]",
      "text/plain": [
       "<Figure size 432x288 with 1 Axes>"
      ]
     },
     "metadata": {
      "needs_background": "light"
     },
     "output_type": "display_data"
    }
   ],
   "source": [
    "sns.boxplot(x='smoking_status', y='age', hue='stroke', data=data)"
   ]
  },
  {
   "cell_type": "code",
   "execution_count": 9,
   "id": "technological-technology",
   "metadata": {},
   "outputs": [
    {
     "data": {
      "text/plain": [
       "<AxesSubplot:xlabel='smoking_status', ylabel='avg_glucose_level'>"
      ]
     },
     "execution_count": 9,
     "metadata": {},
     "output_type": "execute_result"
    },
    {
     "data": {
      "image/png": "[encoded data removed]",
      "text/plain": [
       "<Figure size 432x288 with 1 Axes>"
      ]
     },
     "metadata": {
      "needs_background": "light"
     },
     "output_type": "display_data"
    }
   ],
   "source": [
    "sns.boxplot(x='smoking_status', y='avg_glucose_level', hue='stroke', data=data)"
   ]
  },
  {
   "cell_type": "markdown",
   "id": "olive-ordering",
   "metadata": {},
   "source": [
    "We see that age and average glucose level are one of the characteristics for a stroke."
   ]
  },
  {
   "cell_type": "code",
   "execution_count": null,
   "id": "comparative-covering",
   "metadata": {},
   "outputs": [],
   "source": [
    "sns.scatterplot(data=data, x='bmi', y='avg_glucose_level')"
   ]
  },
  {
   "cell_type": "code",
   "execution_count": null,
   "id": "pointed-effectiveness",
   "metadata": {},
   "outputs": [],
   "source": []
  },
  {
   "cell_type": "code",
   "execution_count": null,
   "id": "grand-creature",
   "metadata": {},
   "outputs": [],
   "source": []
  },
  {
   "cell_type": "code",
   "execution_count": null,
   "id": "bibliographic-socket",
   "metadata": {},
   "outputs": [],
   "source": []
  },
  {
   "cell_type": "code",
   "execution_count": null,
   "id": "enhanced-saskatchewan",
   "metadata": {},
   "outputs": [],
   "source": []
  },
  {
   "cell_type": "code",
   "execution_count": null,
   "id": "governmental-spirit",
   "metadata": {},
   "outputs": [],
   "source": []
  },
  {
   "cell_type": "code",
   "execution_count": 10,
   "id": "returning-track",
   "metadata": {},
   "outputs": [
    {
     "data": {
      "text/plain": [
       "Index(['Govt_job', 'Never_worked', 'Private', 'Self-employed', 'children'], dtype='object', name='work_type')"
      ]
     },
     "execution_count": 10,
     "metadata": {},
     "output_type": "execute_result"
    }
   ],
   "source": [
    "data.groupby('work_type').count().index"
   ]
  },
  {
   "cell_type": "markdown",
   "id": "differential-large",
   "metadata": {},
   "source": [
    "### Data Cleaning and Processing"
   ]
  },
  {
   "cell_type": "markdown",
   "id": "exposed-positive",
   "metadata": {},
   "source": [
    "In order to build our logistic regression model, we must transform our data into numerical values. We can do that using one-hot encoding through our ETL pipeline."
   ]
  },
  {
   "cell_type": "code",
   "execution_count": 2,
   "id": "boolean-cuisine",
   "metadata": {},
   "outputs": [],
   "source": [
    "import sys\n",
    "sys.path.insert(0, '../jobs')"
   ]
  },
  {
   "cell_type": "code",
   "execution_count": 3,
   "id": "tough-disclosure",
   "metadata": {},
   "outputs": [],
   "source": [
    "import etl_job as etl"
   ]
  },
  {
   "cell_type": "code",
   "execution_count": 4,
   "id": "spare-temple",
   "metadata": {
    "scrolled": true
   },
   "outputs": [
    {
     "name": "stdout",
     "output_type": "stream",
     "text": [
      "+----+------------+-------------+-----------------+------+------------+-------------+--------------+---------------+\n",
      "| age|hypertension|heart_disease|avg_glucose_level|gender|ever_married|    work_type|Residence_type| smoking_status|\n",
      "+----+------------+-------------+-----------------+------+------------+-------------+--------------+---------------+\n",
      "|67.0|         0.0|          1.0|           228.69|  male|         yes|      private|         urban|formerly smoked|\n",
      "|61.0|         0.0|          0.0|           202.21|female|         yes|self-employed|         rural|   never smoked|\n",
      "|80.0|         0.0|          1.0|           105.92|  male|         yes|      private|         rural|   never smoked|\n",
      "|49.0|         0.0|          0.0|           171.23|female|         yes|      private|         urban|         smokes|\n",
      "|79.0|         1.0|          0.0|           174.12|female|         yes|self-employed|         rural|   never smoked|\n",
      "|81.0|         0.0|          0.0|           186.21|  male|         yes|      private|         urban|formerly smoked|\n",
      "|74.0|         1.0|          1.0|            70.09|  male|         yes|      private|         rural|   never smoked|\n",
      "|69.0|         0.0|          0.0|            94.39|female|          no|      private|         urban|   never smoked|\n",
      "|59.0|         0.0|          0.0|            76.15|female|         yes|      private|         rural|        unknown|\n",
      "|78.0|         0.0|          0.0|            58.57|female|         yes|      private|         urban|        unknown|\n",
      "|81.0|         1.0|          0.0|            80.43|female|         yes|      private|         rural|   never smoked|\n",
      "|61.0|         0.0|          1.0|           120.46|female|         yes|     govt_job|         rural|         smokes|\n",
      "|54.0|         0.0|          0.0|           104.51|female|         yes|      private|         urban|         smokes|\n",
      "|78.0|         0.0|          1.0|           219.84|  male|         yes|      private|         urban|        unknown|\n",
      "|79.0|         0.0|          1.0|           214.09|female|         yes|      private|         urban|   never smoked|\n",
      "|50.0|         1.0|          0.0|           167.41|female|         yes|self-employed|         rural|   never smoked|\n",
      "|64.0|         0.0|          1.0|           191.61|  male|         yes|      private|         urban|         smokes|\n",
      "|75.0|         1.0|          0.0|           221.29|  male|         yes|      private|         urban|         smokes|\n",
      "|60.0|         0.0|          0.0|            89.22|female|          no|      private|         urban|   never smoked|\n",
      "|57.0|         0.0|          1.0|           217.08|  male|          no|     govt_job|         urban|        unknown|\n",
      "+----+------------+-------------+-----------------+------+------------+-------------+--------------+---------------+\n",
      "only showing top 20 rows\n",
      "\n",
      "+--------+-----------+----------------+----------------+\n",
      "|gender_i|work_type_i|Residence_type_i|smoking_status_i|\n",
      "+--------+-----------+----------------+----------------+\n",
      "|     1.0|        0.0|             0.0|             2.0|\n",
      "|     0.0|        1.0|             1.0|             0.0|\n",
      "|     1.0|        0.0|             1.0|             0.0|\n",
      "|     0.0|        0.0|             0.0|             3.0|\n",
      "|     0.0|        1.0|             1.0|             0.0|\n",
      "|     1.0|        0.0|             0.0|             2.0|\n",
      "|     1.0|        0.0|             1.0|             0.0|\n",
      "|     0.0|        0.0|             0.0|             0.0|\n",
      "|     0.0|        0.0|             1.0|             1.0|\n",
      "|     0.0|        0.0|             0.0|             1.0|\n",
      "|     0.0|        0.0|             1.0|             0.0|\n",
      "|     0.0|        3.0|             1.0|             3.0|\n",
      "|     0.0|        0.0|             0.0|             3.0|\n",
      "|     1.0|        0.0|             0.0|             1.0|\n",
      "|     0.0|        0.0|             0.0|             0.0|\n",
      "|     0.0|        1.0|             1.0|             0.0|\n",
      "|     1.0|        0.0|             0.0|             3.0|\n",
      "|     1.0|        0.0|             0.0|             3.0|\n",
      "|     0.0|        0.0|             0.0|             0.0|\n",
      "|     1.0|        3.0|             0.0|             1.0|\n",
      "+--------+-----------+----------------+----------------+\n",
      "only showing top 20 rows\n",
      "\n",
      "+-------------+-------------+--------------+--------------+\n",
      "|       gender|    work_type|Residence_type|smoking_status|\n",
      "+-------------+-------------+--------------+--------------+\n",
      "|(2,[1],[1.0])|(4,[0],[1.0])| (1,[0],[1.0])| (3,[2],[1.0])|\n",
      "|(2,[0],[1.0])|(4,[1],[1.0])|     (1,[],[])| (3,[0],[1.0])|\n",
      "|(2,[1],[1.0])|(4,[0],[1.0])|     (1,[],[])| (3,[0],[1.0])|\n",
      "|(2,[0],[1.0])|(4,[0],[1.0])| (1,[0],[1.0])|     (3,[],[])|\n",
      "|(2,[0],[1.0])|(4,[1],[1.0])|     (1,[],[])| (3,[0],[1.0])|\n",
      "|(2,[1],[1.0])|(4,[0],[1.0])| (1,[0],[1.0])| (3,[2],[1.0])|\n",
      "|(2,[1],[1.0])|(4,[0],[1.0])|     (1,[],[])| (3,[0],[1.0])|\n",
      "|(2,[0],[1.0])|(4,[0],[1.0])| (1,[0],[1.0])| (3,[0],[1.0])|\n",
      "|(2,[0],[1.0])|(4,[0],[1.0])|     (1,[],[])| (3,[1],[1.0])|\n",
      "|(2,[0],[1.0])|(4,[0],[1.0])| (1,[0],[1.0])| (3,[1],[1.0])|\n",
      "|(2,[0],[1.0])|(4,[0],[1.0])|     (1,[],[])| (3,[0],[1.0])|\n",
      "|(2,[0],[1.0])|(4,[3],[1.0])|     (1,[],[])|     (3,[],[])|\n",
      "|(2,[0],[1.0])|(4,[0],[1.0])| (1,[0],[1.0])|     (3,[],[])|\n",
      "|(2,[1],[1.0])|(4,[0],[1.0])| (1,[0],[1.0])| (3,[1],[1.0])|\n",
      "|(2,[0],[1.0])|(4,[0],[1.0])| (1,[0],[1.0])| (3,[0],[1.0])|\n",
      "|(2,[0],[1.0])|(4,[1],[1.0])|     (1,[],[])| (3,[0],[1.0])|\n",
      "|(2,[1],[1.0])|(4,[0],[1.0])| (1,[0],[1.0])|     (3,[],[])|\n",
      "|(2,[1],[1.0])|(4,[0],[1.0])| (1,[0],[1.0])|     (3,[],[])|\n",
      "|(2,[0],[1.0])|(4,[0],[1.0])| (1,[0],[1.0])| (3,[0],[1.0])|\n",
      "|(2,[1],[1.0])|(4,[3],[1.0])| (1,[0],[1.0])| (3,[1],[1.0])|\n",
      "+-------------+-------------+--------------+--------------+\n",
      "only showing top 20 rows\n",
      "\n"
     ]
    }
   ],
   "source": [
    "df = etl.start()"
   ]
  },
  {
   "cell_type": "code",
   "execution_count": 5,
   "id": "alone-wholesale",
   "metadata": {},
   "outputs": [
    {
     "data": {
      "text/html": [
       "<div>\n",
       "<style scoped>\n",
       "    .dataframe tbody tr th:only-of-type {\n",
       "        vertical-align: middle;\n",
       "    }\n",
       "\n",
       "    .dataframe tbody tr th {\n",
       "        vertical-align: top;\n",
       "    }\n",
       "\n",
       "    .dataframe thead th {\n",
       "        text-align: right;\n",
       "    }\n",
       "</style>\n",
       "<table border=\"1\" class=\"dataframe\">\n",
       "  <thead>\n",
       "    <tr style=\"text-align: right;\">\n",
       "      <th></th>\n",
       "      <th>age</th>\n",
       "      <th>hypertension</th>\n",
       "      <th>heart_disease</th>\n",
       "      <th>avg_glucose_level</th>\n",
       "      <th>gender</th>\n",
       "      <th>work_type</th>\n",
       "      <th>Residence_type</th>\n",
       "      <th>smoking_status</th>\n",
       "      <th>features</th>\n",
       "    </tr>\n",
       "  </thead>\n",
       "  <tbody>\n",
       "    <tr>\n",
       "      <th>0</th>\n",
       "      <td>67.0</td>\n",
       "      <td>0.0</td>\n",
       "      <td>1.0</td>\n",
       "      <td>228.69</td>\n",
       "      <td>(0.0, 1.0)</td>\n",
       "      <td>(1.0, 0.0, 0.0, 0.0)</td>\n",
       "      <td>(1.0)</td>\n",
       "      <td>(0.0, 0.0, 1.0)</td>\n",
       "      <td>[67.0, 0.0, 1.0, 228.69, 0.0, 1.0, 1.0, 0.0, 0...</td>\n",
       "    </tr>\n",
       "    <tr>\n",
       "      <th>1</th>\n",
       "      <td>61.0</td>\n",
       "      <td>0.0</td>\n",
       "      <td>0.0</td>\n",
       "      <td>202.21</td>\n",
       "      <td>(1.0, 0.0)</td>\n",
       "      <td>(0.0, 1.0, 0.0, 0.0)</td>\n",
       "      <td>(0.0)</td>\n",
       "      <td>(1.0, 0.0, 0.0)</td>\n",
       "      <td>[61.0, 0.0, 0.0, 202.21, 1.0, 0.0, 0.0, 1.0, 0...</td>\n",
       "    </tr>\n",
       "    <tr>\n",
       "      <th>2</th>\n",
       "      <td>80.0</td>\n",
       "      <td>0.0</td>\n",
       "      <td>1.0</td>\n",
       "      <td>105.92</td>\n",
       "      <td>(0.0, 1.0)</td>\n",
       "      <td>(1.0, 0.0, 0.0, 0.0)</td>\n",
       "      <td>(0.0)</td>\n",
       "      <td>(1.0, 0.0, 0.0)</td>\n",
       "      <td>[80.0, 0.0, 1.0, 105.92, 0.0, 1.0, 1.0, 0.0, 0...</td>\n",
       "    </tr>\n",
       "    <tr>\n",
       "      <th>3</th>\n",
       "      <td>49.0</td>\n",
       "      <td>0.0</td>\n",
       "      <td>0.0</td>\n",
       "      <td>171.23</td>\n",
       "      <td>(1.0, 0.0)</td>\n",
       "      <td>(1.0, 0.0, 0.0, 0.0)</td>\n",
       "      <td>(1.0)</td>\n",
       "      <td>(0.0, 0.0, 0.0)</td>\n",
       "      <td>[49.0, 0.0, 0.0, 171.23, 1.0, 0.0, 1.0, 0.0, 0...</td>\n",
       "    </tr>\n",
       "    <tr>\n",
       "      <th>4</th>\n",
       "      <td>79.0</td>\n",
       "      <td>1.0</td>\n",
       "      <td>0.0</td>\n",
       "      <td>174.12</td>\n",
       "      <td>(1.0, 0.0)</td>\n",
       "      <td>(0.0, 1.0, 0.0, 0.0)</td>\n",
       "      <td>(0.0)</td>\n",
       "      <td>(1.0, 0.0, 0.0)</td>\n",
       "      <td>[79.0, 1.0, 0.0, 174.12, 1.0, 0.0, 0.0, 1.0, 0...</td>\n",
       "    </tr>\n",
       "    <tr>\n",
       "      <th>...</th>\n",
       "      <td>...</td>\n",
       "      <td>...</td>\n",
       "      <td>...</td>\n",
       "      <td>...</td>\n",
       "      <td>...</td>\n",
       "      <td>...</td>\n",
       "      <td>...</td>\n",
       "      <td>...</td>\n",
       "      <td>...</td>\n",
       "    </tr>\n",
       "    <tr>\n",
       "      <th>5105</th>\n",
       "      <td>80.0</td>\n",
       "      <td>1.0</td>\n",
       "      <td>0.0</td>\n",
       "      <td>83.75</td>\n",
       "      <td>(1.0, 0.0)</td>\n",
       "      <td>(1.0, 0.0, 0.0, 0.0)</td>\n",
       "      <td>(1.0)</td>\n",
       "      <td>(1.0, 0.0, 0.0)</td>\n",
       "      <td>[80.0, 1.0, 0.0, 83.75, 1.0, 0.0, 1.0, 0.0, 0....</td>\n",
       "    </tr>\n",
       "    <tr>\n",
       "      <th>5106</th>\n",
       "      <td>81.0</td>\n",
       "      <td>0.0</td>\n",
       "      <td>0.0</td>\n",
       "      <td>125.20</td>\n",
       "      <td>(1.0, 0.0)</td>\n",
       "      <td>(0.0, 1.0, 0.0, 0.0)</td>\n",
       "      <td>(1.0)</td>\n",
       "      <td>(1.0, 0.0, 0.0)</td>\n",
       "      <td>[81.0, 0.0, 0.0, 125.2, 1.0, 0.0, 0.0, 1.0, 0....</td>\n",
       "    </tr>\n",
       "    <tr>\n",
       "      <th>5107</th>\n",
       "      <td>35.0</td>\n",
       "      <td>0.0</td>\n",
       "      <td>0.0</td>\n",
       "      <td>82.99</td>\n",
       "      <td>(1.0, 0.0)</td>\n",
       "      <td>(0.0, 1.0, 0.0, 0.0)</td>\n",
       "      <td>(0.0)</td>\n",
       "      <td>(1.0, 0.0, 0.0)</td>\n",
       "      <td>[35.0, 0.0, 0.0, 82.99, 1.0, 0.0, 0.0, 1.0, 0....</td>\n",
       "    </tr>\n",
       "    <tr>\n",
       "      <th>5108</th>\n",
       "      <td>51.0</td>\n",
       "      <td>0.0</td>\n",
       "      <td>0.0</td>\n",
       "      <td>166.29</td>\n",
       "      <td>(0.0, 1.0)</td>\n",
       "      <td>(1.0, 0.0, 0.0, 0.0)</td>\n",
       "      <td>(0.0)</td>\n",
       "      <td>(0.0, 0.0, 1.0)</td>\n",
       "      <td>[51.0, 0.0, 0.0, 166.29, 0.0, 1.0, 1.0, 0.0, 0...</td>\n",
       "    </tr>\n",
       "    <tr>\n",
       "      <th>5109</th>\n",
       "      <td>44.0</td>\n",
       "      <td>0.0</td>\n",
       "      <td>0.0</td>\n",
       "      <td>85.28</td>\n",
       "      <td>(1.0, 0.0)</td>\n",
       "      <td>(0.0, 0.0, 0.0, 1.0)</td>\n",
       "      <td>(1.0)</td>\n",
       "      <td>(0.0, 1.0, 0.0)</td>\n",
       "      <td>[44.0, 0.0, 0.0, 85.28, 1.0, 0.0, 0.0, 0.0, 0....</td>\n",
       "    </tr>\n",
       "  </tbody>\n",
       "</table>\n",
       "<p>5110 rows × 9 columns</p>\n",
       "</div>"
      ],
      "text/plain": [
       "       age  hypertension  heart_disease  avg_glucose_level      gender  \\\n",
       "0     67.0           0.0            1.0             228.69  (0.0, 1.0)   \n",
       "1     61.0           0.0            0.0             202.21  (1.0, 0.0)   \n",
       "2     80.0           0.0            1.0             105.92  (0.0, 1.0)   \n",
       "3     49.0           0.0            0.0             171.23  (1.0, 0.0)   \n",
       "4     79.0           1.0            0.0             174.12  (1.0, 0.0)   \n",
       "...    ...           ...            ...                ...         ...   \n",
       "5105  80.0           1.0            0.0              83.75  (1.0, 0.0)   \n",
       "5106  81.0           0.0            0.0             125.20  (1.0, 0.0)   \n",
       "5107  35.0           0.0            0.0              82.99  (1.0, 0.0)   \n",
       "5108  51.0           0.0            0.0             166.29  (0.0, 1.0)   \n",
       "5109  44.0           0.0            0.0              85.28  (1.0, 0.0)   \n",
       "\n",
       "                 work_type Residence_type   smoking_status  \\\n",
       "0     (1.0, 0.0, 0.0, 0.0)          (1.0)  (0.0, 0.0, 1.0)   \n",
       "1     (0.0, 1.0, 0.0, 0.0)          (0.0)  (1.0, 0.0, 0.0)   \n",
       "2     (1.0, 0.0, 0.0, 0.0)          (0.0)  (1.0, 0.0, 0.0)   \n",
       "3     (1.0, 0.0, 0.0, 0.0)          (1.0)  (0.0, 0.0, 0.0)   \n",
       "4     (0.0, 1.0, 0.0, 0.0)          (0.0)  (1.0, 0.0, 0.0)   \n",
       "...                    ...            ...              ...   \n",
       "5105  (1.0, 0.0, 0.0, 0.0)          (1.0)  (1.0, 0.0, 0.0)   \n",
       "5106  (0.0, 1.0, 0.0, 0.0)          (1.0)  (1.0, 0.0, 0.0)   \n",
       "5107  (0.0, 1.0, 0.0, 0.0)          (0.0)  (1.0, 0.0, 0.0)   \n",
       "5108  (1.0, 0.0, 0.0, 0.0)          (0.0)  (0.0, 0.0, 1.0)   \n",
       "5109  (0.0, 0.0, 0.0, 1.0)          (1.0)  (0.0, 1.0, 0.0)   \n",
       "\n",
       "                                               features  \n",
       "0     [67.0, 0.0, 1.0, 228.69, 0.0, 1.0, 1.0, 0.0, 0...  \n",
       "1     [61.0, 0.0, 0.0, 202.21, 1.0, 0.0, 0.0, 1.0, 0...  \n",
       "2     [80.0, 0.0, 1.0, 105.92, 0.0, 1.0, 1.0, 0.0, 0...  \n",
       "3     [49.0, 0.0, 0.0, 171.23, 1.0, 0.0, 1.0, 0.0, 0...  \n",
       "4     [79.0, 1.0, 0.0, 174.12, 1.0, 0.0, 0.0, 1.0, 0...  \n",
       "...                                                 ...  \n",
       "5105  [80.0, 1.0, 0.0, 83.75, 1.0, 0.0, 1.0, 0.0, 0....  \n",
       "5106  [81.0, 0.0, 0.0, 125.2, 1.0, 0.0, 0.0, 1.0, 0....  \n",
       "5107  [35.0, 0.0, 0.0, 82.99, 1.0, 0.0, 0.0, 1.0, 0....  \n",
       "5108  [51.0, 0.0, 0.0, 166.29, 0.0, 1.0, 1.0, 0.0, 0...  \n",
       "5109  [44.0, 0.0, 0.0, 85.28, 1.0, 0.0, 0.0, 0.0, 0....  \n",
       "\n",
       "[5110 rows x 9 columns]"
      ]
     },
     "execution_count": 5,
     "metadata": {},
     "output_type": "execute_result"
    }
   ],
   "source": [
    "df"
   ]
  },
  {
   "cell_type": "code",
   "execution_count": 6,
   "id": "damaged-uzbekistan",
   "metadata": {},
   "outputs": [
    {
     "data": {
      "text/html": [
       "<div>\n",
       "<style scoped>\n",
       "    .dataframe tbody tr th:only-of-type {\n",
       "        vertical-align: middle;\n",
       "    }\n",
       "\n",
       "    .dataframe tbody tr th {\n",
       "        vertical-align: top;\n",
       "    }\n",
       "\n",
       "    .dataframe thead th {\n",
       "        text-align: right;\n",
       "    }\n",
       "</style>\n",
       "<table border=\"1\" class=\"dataframe\">\n",
       "  <thead>\n",
       "    <tr style=\"text-align: right;\">\n",
       "      <th></th>\n",
       "      <th>0</th>\n",
       "      <th>1</th>\n",
       "      <th>2</th>\n",
       "      <th>3</th>\n",
       "      <th>4</th>\n",
       "      <th>5</th>\n",
       "      <th>6</th>\n",
       "      <th>7</th>\n",
       "      <th>8</th>\n",
       "      <th>9</th>\n",
       "      <th>10</th>\n",
       "      <th>11</th>\n",
       "      <th>12</th>\n",
       "      <th>13</th>\n",
       "    </tr>\n",
       "  </thead>\n",
       "  <tbody>\n",
       "    <tr>\n",
       "      <th>0</th>\n",
       "      <td>67.0</td>\n",
       "      <td>0.0</td>\n",
       "      <td>1.0</td>\n",
       "      <td>228.69</td>\n",
       "      <td>0.0</td>\n",
       "      <td>1.0</td>\n",
       "      <td>1.0</td>\n",
       "      <td>0.0</td>\n",
       "      <td>0.0</td>\n",
       "      <td>0.0</td>\n",
       "      <td>1.0</td>\n",
       "      <td>0.0</td>\n",
       "      <td>0.0</td>\n",
       "      <td>1.0</td>\n",
       "    </tr>\n",
       "    <tr>\n",
       "      <th>1</th>\n",
       "      <td>61.0</td>\n",
       "      <td>0.0</td>\n",
       "      <td>0.0</td>\n",
       "      <td>202.21</td>\n",
       "      <td>1.0</td>\n",
       "      <td>0.0</td>\n",
       "      <td>0.0</td>\n",
       "      <td>1.0</td>\n",
       "      <td>0.0</td>\n",
       "      <td>0.0</td>\n",
       "      <td>0.0</td>\n",
       "      <td>1.0</td>\n",
       "      <td>0.0</td>\n",
       "      <td>0.0</td>\n",
       "    </tr>\n",
       "    <tr>\n",
       "      <th>2</th>\n",
       "      <td>80.0</td>\n",
       "      <td>0.0</td>\n",
       "      <td>1.0</td>\n",
       "      <td>105.92</td>\n",
       "      <td>0.0</td>\n",
       "      <td>1.0</td>\n",
       "      <td>1.0</td>\n",
       "      <td>0.0</td>\n",
       "      <td>0.0</td>\n",
       "      <td>0.0</td>\n",
       "      <td>0.0</td>\n",
       "      <td>1.0</td>\n",
       "      <td>0.0</td>\n",
       "      <td>0.0</td>\n",
       "    </tr>\n",
       "    <tr>\n",
       "      <th>3</th>\n",
       "      <td>49.0</td>\n",
       "      <td>0.0</td>\n",
       "      <td>0.0</td>\n",
       "      <td>171.23</td>\n",
       "      <td>1.0</td>\n",
       "      <td>0.0</td>\n",
       "      <td>1.0</td>\n",
       "      <td>0.0</td>\n",
       "      <td>0.0</td>\n",
       "      <td>0.0</td>\n",
       "      <td>1.0</td>\n",
       "      <td>0.0</td>\n",
       "      <td>0.0</td>\n",
       "      <td>0.0</td>\n",
       "    </tr>\n",
       "    <tr>\n",
       "      <th>4</th>\n",
       "      <td>79.0</td>\n",
       "      <td>1.0</td>\n",
       "      <td>0.0</td>\n",
       "      <td>174.12</td>\n",
       "      <td>1.0</td>\n",
       "      <td>0.0</td>\n",
       "      <td>0.0</td>\n",
       "      <td>1.0</td>\n",
       "      <td>0.0</td>\n",
       "      <td>0.0</td>\n",
       "      <td>0.0</td>\n",
       "      <td>1.0</td>\n",
       "      <td>0.0</td>\n",
       "      <td>0.0</td>\n",
       "    </tr>\n",
       "    <tr>\n",
       "      <th>...</th>\n",
       "      <td>...</td>\n",
       "      <td>...</td>\n",
       "      <td>...</td>\n",
       "      <td>...</td>\n",
       "      <td>...</td>\n",
       "      <td>...</td>\n",
       "      <td>...</td>\n",
       "      <td>...</td>\n",
       "      <td>...</td>\n",
       "      <td>...</td>\n",
       "      <td>...</td>\n",
       "      <td>...</td>\n",
       "      <td>...</td>\n",
       "      <td>...</td>\n",
       "    </tr>\n",
       "    <tr>\n",
       "      <th>5105</th>\n",
       "      <td>80.0</td>\n",
       "      <td>1.0</td>\n",
       "      <td>0.0</td>\n",
       "      <td>83.75</td>\n",
       "      <td>1.0</td>\n",
       "      <td>0.0</td>\n",
       "      <td>1.0</td>\n",
       "      <td>0.0</td>\n",
       "      <td>0.0</td>\n",
       "      <td>0.0</td>\n",
       "      <td>1.0</td>\n",
       "      <td>1.0</td>\n",
       "      <td>0.0</td>\n",
       "      <td>0.0</td>\n",
       "    </tr>\n",
       "    <tr>\n",
       "      <th>5106</th>\n",
       "      <td>81.0</td>\n",
       "      <td>0.0</td>\n",
       "      <td>0.0</td>\n",
       "      <td>125.20</td>\n",
       "      <td>1.0</td>\n",
       "      <td>0.0</td>\n",
       "      <td>0.0</td>\n",
       "      <td>1.0</td>\n",
       "      <td>0.0</td>\n",
       "      <td>0.0</td>\n",
       "      <td>1.0</td>\n",
       "      <td>1.0</td>\n",
       "      <td>0.0</td>\n",
       "      <td>0.0</td>\n",
       "    </tr>\n",
       "    <tr>\n",
       "      <th>5107</th>\n",
       "      <td>35.0</td>\n",
       "      <td>0.0</td>\n",
       "      <td>0.0</td>\n",
       "      <td>82.99</td>\n",
       "      <td>1.0</td>\n",
       "      <td>0.0</td>\n",
       "      <td>0.0</td>\n",
       "      <td>1.0</td>\n",
       "      <td>0.0</td>\n",
       "      <td>0.0</td>\n",
       "      <td>0.0</td>\n",
       "      <td>1.0</td>\n",
       "      <td>0.0</td>\n",
       "      <td>0.0</td>\n",
       "    </tr>\n",
       "    <tr>\n",
       "      <th>5108</th>\n",
       "      <td>51.0</td>\n",
       "      <td>0.0</td>\n",
       "      <td>0.0</td>\n",
       "      <td>166.29</td>\n",
       "      <td>0.0</td>\n",
       "      <td>1.0</td>\n",
       "      <td>1.0</td>\n",
       "      <td>0.0</td>\n",
       "      <td>0.0</td>\n",
       "      <td>0.0</td>\n",
       "      <td>0.0</td>\n",
       "      <td>0.0</td>\n",
       "      <td>0.0</td>\n",
       "      <td>1.0</td>\n",
       "    </tr>\n",
       "    <tr>\n",
       "      <th>5109</th>\n",
       "      <td>44.0</td>\n",
       "      <td>0.0</td>\n",
       "      <td>0.0</td>\n",
       "      <td>85.28</td>\n",
       "      <td>1.0</td>\n",
       "      <td>0.0</td>\n",
       "      <td>0.0</td>\n",
       "      <td>0.0</td>\n",
       "      <td>0.0</td>\n",
       "      <td>1.0</td>\n",
       "      <td>1.0</td>\n",
       "      <td>0.0</td>\n",
       "      <td>1.0</td>\n",
       "      <td>0.0</td>\n",
       "    </tr>\n",
       "  </tbody>\n",
       "</table>\n",
       "<p>5110 rows × 14 columns</p>\n",
       "</div>"
      ],
      "text/plain": [
       "        0    1    2       3    4    5    6    7    8    9    10   11   12   13\n",
       "0     67.0  0.0  1.0  228.69  0.0  1.0  1.0  0.0  0.0  0.0  1.0  0.0  0.0  1.0\n",
       "1     61.0  0.0  0.0  202.21  1.0  0.0  0.0  1.0  0.0  0.0  0.0  1.0  0.0  0.0\n",
       "2     80.0  0.0  1.0  105.92  0.0  1.0  1.0  0.0  0.0  0.0  0.0  1.0  0.0  0.0\n",
       "3     49.0  0.0  0.0  171.23  1.0  0.0  1.0  0.0  0.0  0.0  1.0  0.0  0.0  0.0\n",
       "4     79.0  1.0  0.0  174.12  1.0  0.0  0.0  1.0  0.0  0.0  0.0  1.0  0.0  0.0\n",
       "...    ...  ...  ...     ...  ...  ...  ...  ...  ...  ...  ...  ...  ...  ...\n",
       "5105  80.0  1.0  0.0   83.75  1.0  0.0  1.0  0.0  0.0  0.0  1.0  1.0  0.0  0.0\n",
       "5106  81.0  0.0  0.0  125.20  1.0  0.0  0.0  1.0  0.0  0.0  1.0  1.0  0.0  0.0\n",
       "5107  35.0  0.0  0.0   82.99  1.0  0.0  0.0  1.0  0.0  0.0  0.0  1.0  0.0  0.0\n",
       "5108  51.0  0.0  0.0  166.29  0.0  1.0  1.0  0.0  0.0  0.0  0.0  0.0  0.0  1.0\n",
       "5109  44.0  0.0  0.0   85.28  1.0  0.0  0.0  0.0  0.0  1.0  1.0  0.0  1.0  0.0\n",
       "\n",
       "[5110 rows x 14 columns]"
      ]
     },
     "execution_count": 6,
     "metadata": {},
     "output_type": "execute_result"
    }
   ],
   "source": [
    "df = pd.DataFrame(df.features.to_list(), columns=range(len(df['features'][0])))\n",
    "df"
   ]
  },
  {
   "cell_type": "markdown",
   "id": "removable-formula",
   "metadata": {},
   "source": [
    "### Building the Logistic Regression Model"
   ]
  },
  {
   "cell_type": "code",
   "execution_count": null,
   "id": "legitimate-toner",
   "metadata": {},
   "outputs": [],
   "source": []
  },
  {
   "cell_type": "code",
   "execution_count": 46,
   "id": "executive-building",
   "metadata": {},
   "outputs": [],
   "source": [
    "model = LogisticRegression(max_iter=5000)\n",
    "\n",
    "df['stroke'] = data['stroke']\n",
    "\n",
    "train, test = train_test_split(df, test_size=0.10, random_state=42)\n",
    "\n",
    "X_train, y_train = train.iloc[:,:len(df.columns)-1], train['stroke']\n",
    "X_test, y_test = test.iloc[:,:len(df.columns)-1], test['stroke']"
   ]
  },
  {
   "cell_type": "code",
   "execution_count": 47,
   "id": "leading-skirt",
   "metadata": {
    "scrolled": true
   },
   "outputs": [
    {
     "name": "stdout",
     "output_type": "stream",
     "text": [
      "[0 0 0 ... 0 0 0]\n",
      "Training Accuracy:  0.9521635138073494\n",
      "Test Accuracy:  0.9452054794520548\n"
     ]
    }
   ],
   "source": [
    "model.fit(X_train, y_train)\n",
    "predictions = model.predict(X_train)\n",
    "print(predictions)\n",
    "print('Training Accuracy: ', model.score(X_train, y_train))\n",
    "print('Test Accuracy: ', model.score(X_test, y_test))"
   ]
  },
  {
   "cell_type": "code",
   "execution_count": null,
   "id": "incomplete-processor",
   "metadata": {},
   "outputs": [],
   "source": [
    "95.22\n",
    "94.52"
   ]
  }
 ],
 "metadata": {
  "kernelspec": {
   "display_name": "Python 3",
   "language": "python",
   "name": "python3"
  },
  "language_info": {
   "codemirror_mode": {
    "name": "ipython",
    "version": 3
   },
   "file_extension": ".py",
   "mimetype": "text/x-python",
   "name": "python",
   "nbconvert_exporter": "python",
   "pygments_lexer": "ipython3",
   "version": "3.8.8"
  }
 },
 "nbformat": 4,
 "nbformat_minor": 5
}
