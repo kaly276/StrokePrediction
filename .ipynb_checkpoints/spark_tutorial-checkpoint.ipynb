{
 "cells": [
  {
   "cell_type": "code",
   "execution_count": 47,
   "id": "aggressive-advocate",
   "metadata": {},
   "outputs": [
    {
     "name": "stdout",
     "output_type": "stream",
     "text": [
      "+-----+------+----+------------+-------------+------------+-------------+--------------+-----------------+----+---------------+------+\n",
      "|   id|gender| age|hypertension|heart_disease|ever_married|    work_type|Residence_type|avg_glucose_level| bmi| smoking_status|stroke|\n",
      "+-----+------+----+------------+-------------+------------+-------------+--------------+-----------------+----+---------------+------+\n",
      "| 9046|  Male|67.0|           0|            1|         Yes|      Private|         Urban|           228.69|36.6|formerly smoked|     1|\n",
      "|51676|Female|61.0|           0|            0|         Yes|Self-employed|         Rural|           202.21| NaN|   never smoked|     1|\n",
      "|31112|  Male|80.0|           0|            1|         Yes|      Private|         Rural|           105.92|32.5|   never smoked|     1|\n",
      "|60182|Female|49.0|           0|            0|         Yes|      Private|         Urban|           171.23|34.4|         smokes|     1|\n",
      "| 1665|Female|79.0|           1|            0|         Yes|Self-employed|         Rural|           174.12|24.0|   never smoked|     1|\n",
      "|56669|  Male|81.0|           0|            0|         Yes|      Private|         Urban|           186.21|29.0|formerly smoked|     1|\n",
      "|53882|  Male|74.0|           1|            1|         Yes|      Private|         Rural|            70.09|27.4|   never smoked|     1|\n",
      "|10434|Female|69.0|           0|            0|          No|      Private|         Urban|            94.39|22.8|   never smoked|     1|\n",
      "|27419|Female|59.0|           0|            0|         Yes|      Private|         Rural|            76.15| NaN|        Unknown|     1|\n",
      "|60491|Female|78.0|           0|            0|         Yes|      Private|         Urban|            58.57|24.2|        Unknown|     1|\n",
      "|12109|Female|81.0|           1|            0|         Yes|      Private|         Rural|            80.43|29.7|   never smoked|     1|\n",
      "|12095|Female|61.0|           0|            1|         Yes|     Govt_job|         Rural|           120.46|36.8|         smokes|     1|\n",
      "|12175|Female|54.0|           0|            0|         Yes|      Private|         Urban|           104.51|27.3|         smokes|     1|\n",
      "| 8213|  Male|78.0|           0|            1|         Yes|      Private|         Urban|           219.84| NaN|        Unknown|     1|\n",
      "| 5317|Female|79.0|           0|            1|         Yes|      Private|         Urban|           214.09|28.2|   never smoked|     1|\n",
      "|58202|Female|50.0|           1|            0|         Yes|Self-employed|         Rural|           167.41|30.9|   never smoked|     1|\n",
      "|56112|  Male|64.0|           0|            1|         Yes|      Private|         Urban|           191.61|37.5|         smokes|     1|\n",
      "|34120|  Male|75.0|           1|            0|         Yes|      Private|         Urban|           221.29|25.8|         smokes|     1|\n",
      "|27458|Female|60.0|           0|            0|          No|      Private|         Urban|            89.22|37.8|   never smoked|     1|\n",
      "|25226|  Male|57.0|           0|            1|          No|     Govt_job|         Urban|           217.08| NaN|        Unknown|     1|\n",
      "+-----+------+----+------------+-------------+------------+-------------+--------------+-----------------+----+---------------+------+\n",
      "only showing top 20 rows\n",
      "\n"
     ]
    }
   ],
   "source": [
    "import numpy as np\n",
    "import pandas as pd\n",
    "\n",
    "from pyspark.sql import SparkSession\n",
    "\n",
    "spark = SparkSession.builder.getOrCreate()\n",
    "\n",
    "data = pd.read_csv('data/healthcare-dataset-stroke-data.csv')\n",
    "\n",
    "df = spark.createDataFrame(data)\n",
    "df.show()"
   ]
  },
  {
   "cell_type": "code",
   "execution_count": 48,
   "id": "changed-hampton",
   "metadata": {},
   "outputs": [
    {
     "name": "stdout",
     "output_type": "stream",
     "text": [
      "root\n",
      " |-- id: long (nullable = true)\n",
      " |-- gender: string (nullable = true)\n",
      " |-- age: double (nullable = true)\n",
      " |-- hypertension: long (nullable = true)\n",
      " |-- heart_disease: long (nullable = true)\n",
      " |-- ever_married: string (nullable = true)\n",
      " |-- work_type: string (nullable = true)\n",
      " |-- Residence_type: string (nullable = true)\n",
      " |-- avg_glucose_level: double (nullable = true)\n",
      " |-- bmi: double (nullable = true)\n",
      " |-- smoking_status: string (nullable = true)\n",
      " |-- stroke: long (nullable = true)\n",
      "\n",
      "+-------+------------------+\n",
      "|summary|               age|\n",
      "+-------+------------------+\n",
      "|  count|              5110|\n",
      "|   mean|43.226614481409015|\n",
      "| stddev| 22.61264672311348|\n",
      "|    min|              0.08|\n",
      "|    max|              82.0|\n",
      "+-------+------------------+\n",
      "\n"
     ]
    }
   ],
   "source": [
    "df.printSchema()\n",
    "df.select('age').describe().show(5)\n",
    "# df.collect \n",
    "# DataFrame.collect() collects the distributed data to the driver side as the local data in Python.\n",
    "# Note that this can throw an out-of-memory error when the dataset is too large to fit in the driver side\n",
    "# because it collects all the data from executors to the driver side.\n",
    "# We can use df.take(n) or df.tail\n",
    "# DataFrame.toPandas() can also throw an out-of-memory error"
   ]
  },
  {
   "cell_type": "code",
   "execution_count": 49,
   "id": "daily-twenty",
   "metadata": {},
   "outputs": [
    {
     "name": "stdout",
     "output_type": "stream",
     "text": [
      "+------+------------+\n",
      "|gender|upper_gender|\n",
      "+------+------------+\n",
      "|  Male|        MALE|\n",
      "|Female|      FEMALE|\n",
      "|  Male|        MALE|\n",
      "|Female|      FEMALE|\n",
      "|Female|      FEMALE|\n",
      "|  Male|        MALE|\n",
      "|  Male|        MALE|\n",
      "|Female|      FEMALE|\n",
      "|Female|      FEMALE|\n",
      "|Female|      FEMALE|\n",
      "|Female|      FEMALE|\n",
      "|Female|      FEMALE|\n",
      "|Female|      FEMALE|\n",
      "|  Male|        MALE|\n",
      "|Female|      FEMALE|\n",
      "|Female|      FEMALE|\n",
      "|  Male|        MALE|\n",
      "|  Male|        MALE|\n",
      "|Female|      FEMALE|\n",
      "|  Male|        MALE|\n",
      "+------+------------+\n",
      "only showing top 20 rows\n",
      "\n",
      "+------+------------+\n",
      "|gender|upper_gender|\n",
      "+------+------------+\n",
      "|  Male|        MALE|\n",
      "|  Male|        MALE|\n",
      "|  Male|        MALE|\n",
      "|  Male|        MALE|\n",
      "|  Male|        MALE|\n",
      "|  Male|        MALE|\n",
      "|  Male|        MALE|\n",
      "|  Male|        MALE|\n",
      "|  Male|        MALE|\n",
      "|  Male|        MALE|\n",
      "|  Male|        MALE|\n",
      "|  Male|        MALE|\n",
      "|  Male|        MALE|\n",
      "|  Male|        MALE|\n",
      "|  Male|        MALE|\n",
      "|  Male|        MALE|\n",
      "|  Male|        MALE|\n",
      "|  Male|        MALE|\n",
      "|  Male|        MALE|\n",
      "|  Male|        MALE|\n",
      "+------+------------+\n",
      "only showing top 20 rows\n",
      "\n"
     ]
    }
   ],
   "source": [
    "from pyspark.sql import Column\n",
    "from pyspark.sql.functions import upper\n",
    "\n",
    "test_df = df.select('gender')\n",
    "test_df = test_df.withColumn('upper_gender', upper(test_df.gender))\n",
    "test_df.show()\n",
    "test_df.filter(test_df.upper_gender == 'MALE').show()"
   ]
  },
  {
   "cell_type": "code",
   "execution_count": 50,
   "id": "revolutionary-throat",
   "metadata": {},
   "outputs": [
    {
     "data": {
      "text/plain": [
       "pyspark.sql.dataframe.DataFrame"
      ]
     },
     "execution_count": 50,
     "metadata": {},
     "output_type": "execute_result"
    }
   ],
   "source": [
    "smoke_status_summary = df.groupby('smoking_status').count()\n",
    "type(smoke_status_summary)"
   ]
  },
  {
   "cell_type": "code",
   "execution_count": 51,
   "id": "hispanic-casting",
   "metadata": {},
   "outputs": [
    {
     "name": "stdout",
     "output_type": "stream",
     "text": [
      "+--------------------+\n",
      "|pandas_plus_one(age)|\n",
      "+--------------------+\n",
      "|                  68|\n",
      "|                  62|\n",
      "|                  81|\n",
      "|                  50|\n",
      "|                  80|\n",
      "|                  82|\n",
      "|                  75|\n",
      "|                  70|\n",
      "|                  60|\n",
      "|                  79|\n",
      "|                  82|\n",
      "|                  62|\n",
      "|                  55|\n",
      "|                  79|\n",
      "|                  80|\n",
      "|                  51|\n",
      "|                  65|\n",
      "|                  76|\n",
      "|                  61|\n",
      "|                  58|\n",
      "+--------------------+\n",
      "only showing top 20 rows\n",
      "\n"
     ]
    }
   ],
   "source": [
    "from pyspark.sql.functions import pandas_udf\n",
    "\n",
    "@pandas_udf('long')\n",
    "def pandas_plus_one(series: pd.Series) -> pd.Series:\n",
    "    # Simply plus one by using pandas Series.\n",
    "    return series + 1\n",
    "\n",
    "df.select(pandas_plus_one(df.age)).show()"
   ]
  },
  {
   "cell_type": "code",
   "execution_count": 55,
   "id": "direct-banking",
   "metadata": {},
   "outputs": [
    {
     "name": "stdout",
     "output_type": "stream",
     "text": [
      "+---------------+-----+\n",
      "| smoking_status|count|\n",
      "+---------------+-----+\n",
      "|         smokes|  789|\n",
      "|        Unknown| 1544|\n",
      "|   never smoked| 1892|\n",
      "|formerly smoked|  885|\n",
      "+---------------+-----+\n",
      "\n"
     ]
    }
   ],
   "source": [
    "smoke_status_summary.show()"
   ]
  },
  {
   "cell_type": "code",
   "execution_count": 61,
   "id": "permanent-freeware",
   "metadata": {},
   "outputs": [
    {
     "name": "stdout",
     "output_type": "stream",
     "text": [
      "+------------+\n",
      "|add_one(age)|\n",
      "+------------+\n",
      "|          68|\n",
      "|          62|\n",
      "|          81|\n",
      "|          50|\n",
      "|          80|\n",
      "|          82|\n",
      "|          75|\n",
      "|          70|\n",
      "|          60|\n",
      "|          79|\n",
      "|          82|\n",
      "|          62|\n",
      "|          55|\n",
      "|          79|\n",
      "|          80|\n",
      "|          51|\n",
      "|          65|\n",
      "|          76|\n",
      "|          61|\n",
      "|          58|\n",
      "+------------+\n",
      "only showing top 20 rows\n",
      "\n",
      "+--------------+\n",
      "|(count(1) > 0)|\n",
      "+--------------+\n",
      "|          true|\n",
      "+--------------+\n",
      "\n"
     ]
    }
   ],
   "source": [
    "# Can use DataFrame and SQL interchangeably\n",
    "df.createOrReplaceTempView('tableA')\n",
    "spark.sql('SELECT count(*) from tableA')\n",
    "\n",
    "# Can register UDFs and invoke them in SQL\n",
    "@pandas_udf(\"integer\")\n",
    "def add_one(s: pd.Series) -> pd.Series:\n",
    "    return s + 1\n",
    "spark.udf.register(\"add_one\", add_one)\n",
    "spark.sql(\"SELECT add_one(age) FROM tableA\")\n",
    "\n",
    "# These SQL expressions can directly be mixed and used as PySpark columns.\n",
    "from pyspark.sql.functions import expr\n",
    "\n",
    "df.selectExpr('add_one(age)').show()\n",
    "df.select(expr('count(*)') > 0).show()"
   ]
  },
  {
   "cell_type": "code",
   "execution_count": null,
   "id": "congressional-carolina",
   "metadata": {},
   "outputs": [],
   "source": []
  }
 ],
 "metadata": {
  "kernelspec": {
   "display_name": "Python 3",
   "language": "python",
   "name": "python3"
  },
  "language_info": {
   "codemirror_mode": {
    "name": "ipython",
    "version": 3
   },
   "file_extension": ".py",
   "mimetype": "text/x-python",
   "name": "python",
   "nbconvert_exporter": "python",
   "pygments_lexer": "ipython3",
   "version": "3.8.8"
  }
 },
 "nbformat": 4,
 "nbformat_minor": 5
}
